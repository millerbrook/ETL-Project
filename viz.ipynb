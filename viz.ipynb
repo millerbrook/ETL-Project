{
 "metadata": {
  "language_info": {
   "codemirror_mode": {
    "name": "ipython",
    "version": 3
   },
   "file_extension": ".py",
   "mimetype": "text/x-python",
   "name": "python",
   "nbconvert_exporter": "python",
   "pygments_lexer": "ipython3",
   "version": 3
  },
  "orig_nbformat": 2
 },
 "nbformat": 4,
 "nbformat_minor": 2,
 "cells": [
  {
   "cell_type": "code",
   "execution_count": null,
   "metadata": {},
   "outputs": [],
   "source": [
    "# Dependencies and Setup\n",
    "import matplotlib.pyplot as plt\n",
    "import pandas as pd\n",
    "import scipy.stats as st\n",
    "import numpy as np"
   ]
  },
  {
   "cell_type": "code",
   "execution_count": null,
   "metadata": {},
   "outputs": [],
   "source": [
    "#Bar chart using pyplot\n",
    "source = \n",
    "x_axis = np.arange(len(source))\n",
    "x_ticks = list(source.keys())\n",
    "y_values = source.tolist()\n",
    "plt.bar(x_axis, y_values, width= .5, color='b', align='center')\n",
    "tick_locations = [value for value in x_axis]\n",
    "plt.xticks(tick_locations, x_ticks, rotation = 90)\n",
    "plt.xlabel(\"State\")\n",
    "plt.ylabel('% allocations relative to population ')\n",
    "plt.xlim(-0.5, len(x_axis)-0.5)\n",
    "plt.tight_layout()\n",
    "plt.show()"
   ]
  },
  {
   "cell_type": "code",
   "execution_count": null,
   "metadata": {},
   "outputs": [],
   "source": [
    "#Task 5: Generate a pie plot using Panda's DataFrame.plot()\n",
    "# Generate a pie plot showing the distribution of female versus male mice using pandas\n",
    "florida_df = allocation_df[allocation_df[\"State\"]=='Florida']\n",
    "Non_All = float(100 - florida_df['Allocation Rate'])\n",
    "ALLO = float(florida_df['Allocation Rate'])\n",
    "labels = ['Pop % Allocated', 'Pop % Unallocated'] \n",
    "numbers = [ALLO, Non_All]\n",
    "explode=[0.1, 0]\n",
    "fig1, ax1 = plt.subplots()\n",
    "ax1.pie(numbers, explode=explode, labels=labels, autopct='%1.1f%%', shadow=True, startangle = 140)\n",
    "ax1.axis('equal')\n",
    "plt.title('Distribution of Vaccine Allocations against Total FL Population')\n",
    "plt.tight_layout()\n",
    "plt.savefig('Allo_pie.png')\n",
    "plt.show()"
   ]
  }
 ]
}