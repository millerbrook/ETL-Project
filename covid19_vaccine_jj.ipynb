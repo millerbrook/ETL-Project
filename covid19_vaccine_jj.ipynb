{
 "metadata": {
  "language_info": {
   "codemirror_mode": {
    "name": "ipython",
    "version": 3
   },
   "file_extension": ".py",
   "mimetype": "text/x-python",
   "name": "python",
   "nbconvert_exporter": "python",
   "pygments_lexer": "ipython3",
   "version": "3.8.5-final"
  },
  "orig_nbformat": 2,
  "kernelspec": {
   "name": "python3",
   "display_name": "Python 3.8.5 64-bit ('base': conda)",
   "metadata": {
    "interpreter": {
     "hash": "0cfdad5e626f31b4955989c38978bf1f5325b415a10b52ea84b38c33ed3e8b7b"
    }
   }
  }
 },
 "nbformat": 4,
 "nbformat_minor": 2,
 "cells": [
  {
   "cell_type": "code",
   "execution_count": 1,
   "metadata": {},
   "outputs": [],
   "source": [
    "# Dependencies\n",
    "import pandas as pd\n",
    "import json\n",
    "import requests "
   ]
  },
  {
   "cell_type": "code",
   "execution_count": 2,
   "metadata": {},
   "outputs": [
    {
     "output_type": "execute_result",
     "data": {
      "text/plain": [
       "   Date Code                           Date Desc Population        State  \\\n",
       "0  DATE_CODE                           DATE_DESC        POP         NAME   \n",
       "1          1          4/1/2010 Census population    2967297  Mississippi   \n",
       "2          2  4/1/2010 population estimates base    2968130  Mississippi   \n",
       "3          3        7/1/2010 population estimate    2970548  Mississippi   \n",
       "4          4        7/1/2011 population estimate    2978731  Mississippi   \n",
       "\n",
       "  State ID  \n",
       "0    STATE  \n",
       "1       28  \n",
       "2       28  \n",
       "3       28  \n",
       "4       28  "
      ],
      "text/html": "<div>\n<style scoped>\n    .dataframe tbody tr th:only-of-type {\n        vertical-align: middle;\n    }\n\n    .dataframe tbody tr th {\n        vertical-align: top;\n    }\n\n    .dataframe thead th {\n        text-align: right;\n    }\n</style>\n<table border=\"1\" class=\"dataframe\">\n  <thead>\n    <tr style=\"text-align: right;\">\n      <th></th>\n      <th>Date Code</th>\n      <th>Date Desc</th>\n      <th>Population</th>\n      <th>State</th>\n      <th>State ID</th>\n    </tr>\n  </thead>\n  <tbody>\n    <tr>\n      <th>0</th>\n      <td>DATE_CODE</td>\n      <td>DATE_DESC</td>\n      <td>POP</td>\n      <td>NAME</td>\n      <td>STATE</td>\n    </tr>\n    <tr>\n      <th>1</th>\n      <td>1</td>\n      <td>4/1/2010 Census population</td>\n      <td>2967297</td>\n      <td>Mississippi</td>\n      <td>28</td>\n    </tr>\n    <tr>\n      <th>2</th>\n      <td>2</td>\n      <td>4/1/2010 population estimates base</td>\n      <td>2968130</td>\n      <td>Mississippi</td>\n      <td>28</td>\n    </tr>\n    <tr>\n      <th>3</th>\n      <td>3</td>\n      <td>7/1/2010 population estimate</td>\n      <td>2970548</td>\n      <td>Mississippi</td>\n      <td>28</td>\n    </tr>\n    <tr>\n      <th>4</th>\n      <td>4</td>\n      <td>7/1/2011 population estimate</td>\n      <td>2978731</td>\n      <td>Mississippi</td>\n      <td>28</td>\n    </tr>\n  </tbody>\n</table>\n</div>"
     },
     "metadata": {},
     "execution_count": 2
    }
   ],
   "source": [
    "# Census URL\n",
    "census_url = \"https://api.census.gov/data/2019/pep/population?get=DATE_CODE,DATE_DESC,POP,NAME,STATE&for=state:*\"\n",
    "\n",
    "#Request data in json and store variable\n",
    "census_response = requests.get(census_url)\n",
    "census_data = census_response.json()\n",
    "\n",
    "# Create list to store values for the census data\n",
    "date_code = []\n",
    "date_desc = []\n",
    "pop = []\n",
    "name = []\n",
    "state = []\n",
    "\n",
    "# Loop through data and append list\n",
    "for items in census_data:\n",
    "    date_code.append(items[0])\n",
    "    date_desc.append(items[1])\n",
    "    pop.append(items[2])\n",
    "    name.append(items[3])\n",
    "    state.append(items[4])\n",
    "\n",
    "# Create dataframe from list\n",
    "census_df = pd.DataFrame({\"Date Code\":date_code, \"Date Desc\":date_desc,\n",
    "                        \"Population\":pop, \"State\":name, \"State ID\":state})\n",
    "census_df.head()"
   ]
  },
  {
   "cell_type": "code",
   "execution_count": 3,
   "metadata": {},
   "outputs": [
    {
     "output_type": "execute_result",
     "data": {
      "text/plain": [
       "           State       Week of Allocation 1st Dose Allocation  \\\n",
       "0    Connecticut  2021-03-22T00:00:00.000               50310   \n",
       "1          Maine  2021-03-22T00:00:00.000               19890   \n",
       "2  Massachusetts  2021-03-22T00:00:00.000               95940   \n",
       "3  New Hampshire  2021-03-22T00:00:00.000               19890   \n",
       "4   Rhode Island  2021-03-22T00:00:00.000               15210   \n",
       "\n",
       "  2nd Dose Allocation  \n",
       "0               50310  \n",
       "1               19890  \n",
       "2               95940  \n",
       "3               19890  \n",
       "4               15210  "
      ],
      "text/html": "<div>\n<style scoped>\n    .dataframe tbody tr th:only-of-type {\n        vertical-align: middle;\n    }\n\n    .dataframe tbody tr th {\n        vertical-align: top;\n    }\n\n    .dataframe thead th {\n        text-align: right;\n    }\n</style>\n<table border=\"1\" class=\"dataframe\">\n  <thead>\n    <tr style=\"text-align: right;\">\n      <th></th>\n      <th>State</th>\n      <th>Week of Allocation</th>\n      <th>1st Dose Allocation</th>\n      <th>2nd Dose Allocation</th>\n    </tr>\n  </thead>\n  <tbody>\n    <tr>\n      <th>0</th>\n      <td>Connecticut</td>\n      <td>2021-03-22T00:00:00.000</td>\n      <td>50310</td>\n      <td>50310</td>\n    </tr>\n    <tr>\n      <th>1</th>\n      <td>Maine</td>\n      <td>2021-03-22T00:00:00.000</td>\n      <td>19890</td>\n      <td>19890</td>\n    </tr>\n    <tr>\n      <th>2</th>\n      <td>Massachusetts</td>\n      <td>2021-03-22T00:00:00.000</td>\n      <td>95940</td>\n      <td>95940</td>\n    </tr>\n    <tr>\n      <th>3</th>\n      <td>New Hampshire</td>\n      <td>2021-03-22T00:00:00.000</td>\n      <td>19890</td>\n      <td>19890</td>\n    </tr>\n    <tr>\n      <th>4</th>\n      <td>Rhode Island</td>\n      <td>2021-03-22T00:00:00.000</td>\n      <td>15210</td>\n      <td>15210</td>\n    </tr>\n  </tbody>\n</table>\n</div>"
     },
     "metadata": {},
     "execution_count": 3
    }
   ],
   "source": [
    "# Pfizer URL\n",
    "pfizer_url = \"https://data.cdc.gov/resource/saz5-9hgg.json\"\n",
    "\n",
    "#Request data in json and store variable\n",
    "pfizer_response = requests.get(pfizer_url)\n",
    "pfizer_data = pfizer_response.json()\n",
    "\n",
    "# Create list to store values for the census data\n",
    "pfizer_jurisdiction = []\n",
    "pfizer_wk_of_allo = []\n",
    "pfizer_dose_1 = []\n",
    "pfizer_dose_2 = []\n",
    "\n",
    "# Loop through data and append list\n",
    "for items in pfizer_data:\n",
    "    pfizer_jurisdiction.append(items[\"jurisdiction\"])\n",
    "    pfizer_wk_of_allo.append(items[\"week_of_allocations\"])\n",
    "    pfizer_dose_1.append(items[\"_1st_dose_allocations\"])\n",
    "    pfizer_dose_2.append(items[\"_2nd_dose_allocations\"])\n",
    "\n",
    "# Create dataframe from list\n",
    "pfizer_df = pd.DataFrame({\"State\":pfizer_jurisdiction, \"Week of Allocation\":pfizer_wk_of_allo,\n",
    "                        \"1st Dose Allocation\":pfizer_dose_1, \"2nd Dose Allocation\":pfizer_dose_2})\n",
    "pfizer_df.head()"
   ]
  },
  {
   "cell_type": "code",
   "execution_count": 4,
   "metadata": {},
   "outputs": [
    {
     "output_type": "execute_result",
     "data": {
      "text/plain": [
       "           State       Week of Allocation 1st Dose Allocation  \\\n",
       "0    Connecticut  2021-03-22T00:00:00.000               35800   \n",
       "1          Maine  2021-03-22T00:00:00.000               13700   \n",
       "2  Massachusetts  2021-03-22T00:00:00.000               69000   \n",
       "3  New Hampshire  2021-03-22T00:00:00.000               13700   \n",
       "4   Rhode Island  2021-03-22T00:00:00.000               10800   \n",
       "\n",
       "  2nd Dose Allocation  \n",
       "0               35800  \n",
       "1               13700  \n",
       "2               69000  \n",
       "3               13700  \n",
       "4               10800  "
      ],
      "text/html": "<div>\n<style scoped>\n    .dataframe tbody tr th:only-of-type {\n        vertical-align: middle;\n    }\n\n    .dataframe tbody tr th {\n        vertical-align: top;\n    }\n\n    .dataframe thead th {\n        text-align: right;\n    }\n</style>\n<table border=\"1\" class=\"dataframe\">\n  <thead>\n    <tr style=\"text-align: right;\">\n      <th></th>\n      <th>State</th>\n      <th>Week of Allocation</th>\n      <th>1st Dose Allocation</th>\n      <th>2nd Dose Allocation</th>\n    </tr>\n  </thead>\n  <tbody>\n    <tr>\n      <th>0</th>\n      <td>Connecticut</td>\n      <td>2021-03-22T00:00:00.000</td>\n      <td>35800</td>\n      <td>35800</td>\n    </tr>\n    <tr>\n      <th>1</th>\n      <td>Maine</td>\n      <td>2021-03-22T00:00:00.000</td>\n      <td>13700</td>\n      <td>13700</td>\n    </tr>\n    <tr>\n      <th>2</th>\n      <td>Massachusetts</td>\n      <td>2021-03-22T00:00:00.000</td>\n      <td>69000</td>\n      <td>69000</td>\n    </tr>\n    <tr>\n      <th>3</th>\n      <td>New Hampshire</td>\n      <td>2021-03-22T00:00:00.000</td>\n      <td>13700</td>\n      <td>13700</td>\n    </tr>\n    <tr>\n      <th>4</th>\n      <td>Rhode Island</td>\n      <td>2021-03-22T00:00:00.000</td>\n      <td>10800</td>\n      <td>10800</td>\n    </tr>\n  </tbody>\n</table>\n</div>"
     },
     "metadata": {},
     "execution_count": 4
    }
   ],
   "source": [
    "# Moderna URL\n",
    "moderna_url = \"https://data.cdc.gov/resource/b7pe-5nws.json\"\n",
    "\n",
    "#Request data in json and store variable\n",
    "moderna_response = requests.get(moderna_url)\n",
    "moderna_data = moderna_response.json()\n",
    "\n",
    "# Create list to store values for the census data\n",
    "moderna_jurisdiction = []\n",
    "moderna_wk_of_allo = []\n",
    "moderna_dose_1 = []\n",
    "moderna_dose_2 = []\n",
    "\n",
    "# Loop through data and append list\n",
    "for items in moderna_data:\n",
    "    moderna_jurisdiction.append(items[\"jurisdiction\"])\n",
    "    moderna_wk_of_allo.append(items[\"week_of_allocations\"])\n",
    "    moderna_dose_1.append(items[\"_1st_dose_allocations\"])\n",
    "    moderna_dose_2.append(items[\"_2nd_dose_allocations\"])\n",
    "\n",
    "# Create dataframe from list\n",
    "moderna_df = pd.DataFrame({\"State\":moderna_jurisdiction, \"Week of Allocation\":moderna_wk_of_allo,\n",
    "                    \"1st Dose Allocation\":moderna_dose_1, \"2nd Dose Allocation\":moderna_dose_2})\n",
    "moderna_df.head()"
   ]
  },
  {
   "cell_type": "code",
   "execution_count": 5,
   "metadata": {},
   "outputs": [
    {
     "output_type": "execute_result",
     "data": {
      "text/plain": [
       "           State       Week of Allocation 1st Dose Allocation\n",
       "0    Connecticut  2021-03-22T00:00:00.000                4200\n",
       "1          Maine  2021-03-22T00:00:00.000                1600\n",
       "2  Massachusetts  2021-03-22T00:00:00.000                8000\n",
       "3  New Hampshire  2021-03-22T00:00:00.000                1600\n",
       "4   Rhode Island  2021-03-22T00:00:00.000                1300"
      ],
      "text/html": "<div>\n<style scoped>\n    .dataframe tbody tr th:only-of-type {\n        vertical-align: middle;\n    }\n\n    .dataframe tbody tr th {\n        vertical-align: top;\n    }\n\n    .dataframe thead th {\n        text-align: right;\n    }\n</style>\n<table border=\"1\" class=\"dataframe\">\n  <thead>\n    <tr style=\"text-align: right;\">\n      <th></th>\n      <th>State</th>\n      <th>Week of Allocation</th>\n      <th>1st Dose Allocation</th>\n    </tr>\n  </thead>\n  <tbody>\n    <tr>\n      <th>0</th>\n      <td>Connecticut</td>\n      <td>2021-03-22T00:00:00.000</td>\n      <td>4200</td>\n    </tr>\n    <tr>\n      <th>1</th>\n      <td>Maine</td>\n      <td>2021-03-22T00:00:00.000</td>\n      <td>1600</td>\n    </tr>\n    <tr>\n      <th>2</th>\n      <td>Massachusetts</td>\n      <td>2021-03-22T00:00:00.000</td>\n      <td>8000</td>\n    </tr>\n    <tr>\n      <th>3</th>\n      <td>New Hampshire</td>\n      <td>2021-03-22T00:00:00.000</td>\n      <td>1600</td>\n    </tr>\n    <tr>\n      <th>4</th>\n      <td>Rhode Island</td>\n      <td>2021-03-22T00:00:00.000</td>\n      <td>1300</td>\n    </tr>\n  </tbody>\n</table>\n</div>"
     },
     "metadata": {},
     "execution_count": 5
    }
   ],
   "source": [
    "# Moderna URL\n",
    "janssen_url = \"https://data.cdc.gov/resource/w9zu-fywh.json\"\n",
    "\n",
    "#Request data in json and store variable\n",
    "janssen_response = requests.get(janssen_url)\n",
    "janssen_data = janssen_response.json()\n",
    "\n",
    "# Create list to store values for the census data\n",
    "janssen_jurisdiction = []\n",
    "janssen_wk_of_allo = []\n",
    "janssen_dose_1 = []\n",
    "janssen_dose_2 = []\n",
    "\n",
    "# Loop through data and append list\n",
    "for items in janssen_data:\n",
    "    janssen_jurisdiction.append(items[\"jurisdiction\"])\n",
    "    janssen_wk_of_allo.append(items[\"week_of_allocations\"])\n",
    "    janssen_dose_1.append(items[\"_1st_dose_allocations\"])\n",
    "\n",
    "# Create dataframe from list\n",
    "janssen_df = pd.DataFrame({\"State\":janssen_jurisdiction, \"Week of Allocation\":janssen_wk_of_allo,\n",
    "                    \"1st Dose Allocation\":janssen_dose_1})\n",
    "janssen_df.head()"
   ]
  },
  {
   "cell_type": "code",
   "execution_count": 13,
   "metadata": {},
   "outputs": [
    {
     "output_type": "execute_result",
     "data": {
      "text/plain": [
       "   Vaccine  req_doses  days_between  min_age\n",
       "0   Pfizer          2          21.0       16\n",
       "1  Moderna          2          28.0       18\n",
       "2  Janssen          1           NaN       18"
      ],
      "text/html": "<div>\n<style scoped>\n    .dataframe tbody tr th:only-of-type {\n        vertical-align: middle;\n    }\n\n    .dataframe tbody tr th {\n        vertical-align: top;\n    }\n\n    .dataframe thead th {\n        text-align: right;\n    }\n</style>\n<table border=\"1\" class=\"dataframe\">\n  <thead>\n    <tr style=\"text-align: right;\">\n      <th></th>\n      <th>Vaccine</th>\n      <th>req_doses</th>\n      <th>days_between</th>\n      <th>min_age</th>\n    </tr>\n  </thead>\n  <tbody>\n    <tr>\n      <th>0</th>\n      <td>Pfizer</td>\n      <td>2</td>\n      <td>21.0</td>\n      <td>16</td>\n    </tr>\n    <tr>\n      <th>1</th>\n      <td>Moderna</td>\n      <td>2</td>\n      <td>28.0</td>\n      <td>18</td>\n    </tr>\n    <tr>\n      <th>2</th>\n      <td>Janssen</td>\n      <td>1</td>\n      <td>NaN</td>\n      <td>18</td>\n    </tr>\n  </tbody>\n</table>\n</div>"
     },
     "metadata": {},
     "execution_count": 13
    }
   ],
   "source": [
    "# Vaccine Table\n",
    "vaccine_df  = pd.DataFrame({\"Vaccine\": ['Pfizer','Moderna','Janssen'], \n",
    "                            \"req_doses\":[2,2,1], \"days_between\":[21,28,None], \"min_age\":[16,18,18]\n",
    "                            })\n",
    "vaccine_df"
   ]
  },
  {
   "cell_type": "code",
   "execution_count": null,
   "metadata": {},
   "outputs": [],
   "source": []
  }
 ]
}