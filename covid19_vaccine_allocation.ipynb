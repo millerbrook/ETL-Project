{
 "metadata": {
  "language_info": {
   "codemirror_mode": {
    "name": "ipython",
    "version": 3
   },
   "file_extension": ".py",
   "mimetype": "text/x-python",
   "name": "python",
   "nbconvert_exporter": "python",
   "pygments_lexer": "ipython3",
   "version": "3.8.5-final"
  },
  "orig_nbformat": 2,
  "kernelspec": {
   "name": "python3",
   "display_name": "Python 3",
   "language": "python"
  }
 },
 "nbformat": 4,
 "nbformat_minor": 2,
 "cells": [
  {
   "cell_type": "code",
   "execution_count": 1,
   "metadata": {},
   "outputs": [],
   "source": [
    "# Dependencies\n",
    "import pandas as pd\n",
    "import json\n",
    "import requests "
   ]
  },
  {
   "cell_type": "code",
   "execution_count": 48,
   "metadata": {},
   "outputs": [
    {
     "output_type": "execute_result",
     "data": {
      "text/plain": [
       "   Date Code                           Date Desc Population        State  \\\n",
       "0  DATE_CODE                           DATE_DESC        POP         NAME   \n",
       "1          1          4/1/2010 Census population    2967297  Mississippi   \n",
       "2          2  4/1/2010 population estimates base    2968130  Mississippi   \n",
       "3          3        7/1/2010 population estimate    2970548  Mississippi   \n",
       "4          4        7/1/2011 population estimate    2978731  Mississippi   \n",
       "\n",
       "  State ID  \n",
       "0    STATE  \n",
       "1       28  \n",
       "2       28  \n",
       "3       28  \n",
       "4       28  "
      ],
      "text/html": "<div>\n<style scoped>\n    .dataframe tbody tr th:only-of-type {\n        vertical-align: middle;\n    }\n\n    .dataframe tbody tr th {\n        vertical-align: top;\n    }\n\n    .dataframe thead th {\n        text-align: right;\n    }\n</style>\n<table border=\"1\" class=\"dataframe\">\n  <thead>\n    <tr style=\"text-align: right;\">\n      <th></th>\n      <th>Date Code</th>\n      <th>Date Desc</th>\n      <th>Population</th>\n      <th>State</th>\n      <th>State ID</th>\n    </tr>\n  </thead>\n  <tbody>\n    <tr>\n      <th>0</th>\n      <td>DATE_CODE</td>\n      <td>DATE_DESC</td>\n      <td>POP</td>\n      <td>NAME</td>\n      <td>STATE</td>\n    </tr>\n    <tr>\n      <th>1</th>\n      <td>1</td>\n      <td>4/1/2010 Census population</td>\n      <td>2967297</td>\n      <td>Mississippi</td>\n      <td>28</td>\n    </tr>\n    <tr>\n      <th>2</th>\n      <td>2</td>\n      <td>4/1/2010 population estimates base</td>\n      <td>2968130</td>\n      <td>Mississippi</td>\n      <td>28</td>\n    </tr>\n    <tr>\n      <th>3</th>\n      <td>3</td>\n      <td>7/1/2010 population estimate</td>\n      <td>2970548</td>\n      <td>Mississippi</td>\n      <td>28</td>\n    </tr>\n    <tr>\n      <th>4</th>\n      <td>4</td>\n      <td>7/1/2011 population estimate</td>\n      <td>2978731</td>\n      <td>Mississippi</td>\n      <td>28</td>\n    </tr>\n  </tbody>\n</table>\n</div>"
     },
     "metadata": {},
     "execution_count": 48
    }
   ],
   "source": [
    "# Census URL\n",
    "census_url = \"https://api.census.gov/data/2019/pep/population?get=DATE_CODE,DATE_DESC,POP,NAME,STATE&for=state:*\"\n",
    "\n",
    "#Request data in json and store variable\n",
    "census_response = requests.get(census_url)\n",
    "census_data = census_response.json()\n",
    "\n",
    "# Create list to store values for the census data\n",
    "date_code = []\n",
    "date_desc = []\n",
    "pop = []\n",
    "name = []\n",
    "state = []\n",
    "\n",
    "# Loop through data and append list\n",
    "for items in census_data:\n",
    "        date_code.append(items[0])\n",
    "        date_desc.append(items[1])\n",
    "        pop.append(items[2])\n",
    "        name.append(items[3])\n",
    "        state.append(items[4])\n",
    "\n",
    "# Create dataframe from list\n",
    "census_df = pd.DataFrame({\"Date Code\":date_code, \"Date Desc\":date_desc,\n",
    "                        \"Population\":pop, \"State\":name, \"State ID\":state})\n",
    "census_df.head()"
   ]
  },
  {
   "cell_type": "code",
   "execution_count": 56,
   "metadata": {},
   "outputs": [
    {
     "output_type": "execute_result",
     "data": {
      "text/plain": [
       "'Connecticut'"
      ]
     },
     "metadata": {},
     "execution_count": 56
    }
   ],
   "source": [
    "# Pfizer URL\n",
    "pfizer_url = \"https://data.cdc.gov/resource/saz5-9hgg.json\"\n",
    "\n",
    "#Request data in json and store variable\n",
    "pfizer_response = requests.get(pfizer_url)\n",
    "pfizer_data = pfizer_response.json()\n",
    "\n",
    "# Create list to store values for the census data\n",
    "jurisdiction = []\n",
    "wk_of_allo = []\n",
    "dose_1 = []\n",
    "dose_2 = []\n",
    "\n",
    "# Loop through data and append list\n",
    "for items in pfizer_data:\n",
    "        jurisdiction.append(items[\"jurisdiction\"])\n",
    "        wk_of_allo.append(items[\"week_of_allocations\"])\n",
    "        dose_1.append(items[\"_1st_dose_allocations\"])\n",
    "        dose_2.append(items[\"_2nd_dose_allocations\"])\n",
    "\n",
    "# Create dataframe from list\n",
    "pfizer_df = pd.DataFrame({\"State\":jurisdiction, \"Week of Allocation\":wk_of_allo,\n",
    "                        \"1st Dose Allocation\":dose_1, \"2nd Dose Allocation\":dose_2})\n",
    "pfizer_df.head()"
   ]
  },
  {
   "cell_type": "code",
   "execution_count": 59,
   "metadata": {},
   "outputs": [
    {
     "output_type": "execute_result",
     "data": {
      "text/plain": [
       "           State       Week of Allocation 1st Dose Allocation  \\\n",
       "0    Connecticut  2021-03-15T00:00:00.000               49140   \n",
       "1          Maine  2021-03-15T00:00:00.000               18720   \n",
       "2  Massachusetts  2021-03-15T00:00:00.000               93600   \n",
       "3  New Hampshire  2021-03-15T00:00:00.000               18720   \n",
       "4   Rhode Island  2021-03-15T00:00:00.000               15210   \n",
       "\n",
       "  2nd Dose Allocation  \n",
       "0               49140  \n",
       "1               18720  \n",
       "2               93600  \n",
       "3               18720  \n",
       "4               15210  "
      ],
      "text/html": "<div>\n<style scoped>\n    .dataframe tbody tr th:only-of-type {\n        vertical-align: middle;\n    }\n\n    .dataframe tbody tr th {\n        vertical-align: top;\n    }\n\n    .dataframe thead th {\n        text-align: right;\n    }\n</style>\n<table border=\"1\" class=\"dataframe\">\n  <thead>\n    <tr style=\"text-align: right;\">\n      <th></th>\n      <th>State</th>\n      <th>Week of Allocation</th>\n      <th>1st Dose Allocation</th>\n      <th>2nd Dose Allocation</th>\n    </tr>\n  </thead>\n  <tbody>\n    <tr>\n      <th>0</th>\n      <td>Connecticut</td>\n      <td>2021-03-15T00:00:00.000</td>\n      <td>49140</td>\n      <td>49140</td>\n    </tr>\n    <tr>\n      <th>1</th>\n      <td>Maine</td>\n      <td>2021-03-15T00:00:00.000</td>\n      <td>18720</td>\n      <td>18720</td>\n    </tr>\n    <tr>\n      <th>2</th>\n      <td>Massachusetts</td>\n      <td>2021-03-15T00:00:00.000</td>\n      <td>93600</td>\n      <td>93600</td>\n    </tr>\n    <tr>\n      <th>3</th>\n      <td>New Hampshire</td>\n      <td>2021-03-15T00:00:00.000</td>\n      <td>18720</td>\n      <td>18720</td>\n    </tr>\n    <tr>\n      <th>4</th>\n      <td>Rhode Island</td>\n      <td>2021-03-15T00:00:00.000</td>\n      <td>15210</td>\n      <td>15210</td>\n    </tr>\n  </tbody>\n</table>\n</div>"
     },
     "metadata": {},
     "execution_count": 59
    }
   ],
   "source": []
  },
  {
   "cell_type": "code",
   "execution_count": null,
   "metadata": {},
   "outputs": [],
   "source": []
  }
 ]
}